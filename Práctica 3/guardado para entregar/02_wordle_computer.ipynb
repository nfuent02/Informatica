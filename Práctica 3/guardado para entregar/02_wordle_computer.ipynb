{
  "metadata": {
    "kernelspec": {
      "name": "python",
      "display_name": "Pyolite",
      "language": "python"
    },
    "language_info": {
      "codemirror_mode": {
        "name": "python",
        "version": 3
      },
      "file_extension": ".py",
      "mimetype": "text/x-python",
      "name": "python",
      "nbconvert_exporter": "python",
      "pygments_lexer": "ipython3",
      "version": "3.8"
    }
  },
  "nbformat_minor": 5,
  "nbformat": 4,
  "cells": [
    {
      "cell_type": "markdown",
      "source": "Before you turn this problem in, make sure everything runs as expected. First, **restart the kernel** (in the menubar, select Kernel$\\rightarrow$Restart) and then **run all cells** (in the menubar, select Cell$\\rightarrow$Run All).\n\nMake sure you fill in any place that says `YOUR CODE HERE` or \"YOUR ANSWER HERE\", as well as your name and collaborators below:",
      "metadata": {},
      "id": "437c0ecf"
    },
    {
      "cell_type": "code",
      "source": "NAME = \"NOÉ FUENTES PÉREZ\"\nCOLLABORATORS = \"\"",
      "metadata": {},
      "execution_count": null,
      "outputs": [],
      "id": "1139ea23"
    },
    {
      "cell_type": "markdown",
      "source": "---",
      "metadata": {},
      "id": "81348e74"
    },
    {
      "cell_type": "markdown",
      "source": "# El ordenador juega al Wordle\n\nEn este segundo apartado vamos a hacer un programa que juege al wordle. El ordenador va a tratar de encontrar la palabra que nosotros hayamos escogido. Para no hacer trampas debemos escoger una palabra que se encuentre el el fichero <code>lemario.txt</code>. Vamos a coger una palabra de 5 letras, si quisieramos cambiar esa longitud deberíamos cambiar las constantes de forma adecuada. Por ahora vamos a coger las constantes que ya teníamos definidas.",
      "metadata": {},
      "id": "5691d711"
    },
    {
      "cell_type": "code",
      "source": "LETTER_IN_POS = 0\nLETTER_IN_NO_POS = 1\nLETTER_NOT_IN = 2\nMAX_ATTEMPTS = 6\nWORD_LENTGH = 5",
      "metadata": {
        "deletable": false,
        "editable": false,
        "nbgrader": {
          "cell_type": "code",
          "checksum": "fc9ae06a352c38ae0a199da55296d93c",
          "grade": false,
          "grade_id": "cell-08657e4f82877415",
          "locked": true,
          "schema_version": 3,
          "solution": false,
          "task": false
        }
      },
      "execution_count": null,
      "outputs": [],
      "id": "119ff18a"
    },
    {
      "cell_type": "markdown",
      "source": "De entrada, tendremos que usar las funciones que ya teníamos en el apartado anterior.",
      "metadata": {},
      "id": "555ee1f8"
    },
    {
      "cell_type": "code",
      "source": "LETTER_IN_POS = 0\nLETTER_IN_NO_POS = 1\nLETTER_NOT_IN = 2\nMAX_ATTEMPTS = 6\nWORD_LENTGH = 5\n\ndef read_words(filename, wlen):\n    with open(filename, encoding=\"utf8\") as f:\n        lst = []\n        r = f.readline()\n        while r != '':\n            if len(r.strip('\\n')) == wlen:\n                lst.append(r.strip('\\n'))\n            r = f.readline()\n        return lst\n\n\ndef get_clues(secret, user_word):\n    \"\"\" \n    This funcction returns the clues for the word user_word with respect secret. \n    For each letter it returns \n      - LETTER_IN_POS if the letter is in secret in the same position. \n      - LETTER_IN_NO_POS if the letter is in secret but in another position.\n      - LETTER_NOT_IN if the letter is not in secret.\n    The function returns a list with the corresponding values.\n    Example\n    secret = 'GOTAS'\n    user_word = 'GALGO'\n    returns -> [LETTER_IN_POS, LETTER_IN_POS, LETTER_NOT_IN, LETTER_IN_NO_POS, LETTER_IN_NO_POS]\n    \"\"\"\n    secret = secret.lower()\n    user_word = user_word.lower()\n    replacements = ((\"á\", \"a\"), (\"é\", \"e\"), (\"í\", \"i\"), (\"ó\", \"o\"), (\"ú\", \"u\"))\n    for a, b in replacements:\n        secret = secret.replace(a, b)\n        user_word = user_word.replace(a, b)\n    if len(user_word) != len(secret):\n        raise Exception(f'Debes introducir una palabra de longitud {len(secret)}')\n    clues = []\n    s = [m for m in secret]\n    uw = [n for n in user_word]\n    for i in range(len(s)):\n        if s[i] == uw[i]:\n            clues.append(0)\n        elif uw[i] in s:\n            clues.append(1)\n        else:\n            clues.append(2)\n    return clues\n\ndef are_all_in_pos(answer):\n    \"\"\"\n    This function returns a boolean.\n    It returns True if all elements in the list answer are LETTER_IN_POS.\n    \"\"\"\n    return answer == [0] * len(answer)\n\n",
      "metadata": {
        "deletable": false,
        "nbgrader": {
          "cell_type": "code",
          "checksum": "09ba5763de3b66be04ef75e423be6e66",
          "grade": false,
          "grade_id": "cell-988ffeb76b0056bd",
          "locked": false,
          "schema_version": 3,
          "solution": true,
          "task": false
        }
      },
      "execution_count": null,
      "outputs": [],
      "id": "f6b53b02"
    },
    {
      "cell_type": "markdown",
      "source": "## El algoritmo\n\nVeamos someramente el algoritmo que va a seguir nuestro programa. Tenemos todas las posibles palabras almacenadas en una lista. El programa escoge la primera palabra de la lista y la propone como posible candidata. Pregunta por la respuesta y la almacena. A continuación, siguiendo por la siguiente palabra de la lista, busca la primera palabra que es <em>compatible</em> con la respuesta. La propone y la almacena en la lista la palabra y la respuesta. En todo momento lo que se hace es buscar a partir de la última palabra propuesta, la siguiente que es <em>compatible</em> con las respuestas almacenadas. Pero ¿qué significa exactamente ser compatible? Una palabra es compatible con todas las respuestas, si asumiendo que ella es la palabra secreta, da la misma respuesta a las palabras almacenadas.\nEl programa llevará una lista con las palabras que han sido propuestas y sus respuestas. Por ejemplo, si tenemos las siguientes palabras con sus respuestas\n\n\nPalabra | Respuesta\n--------|------------------\n'ababa' |  [0, 2, 1, 2, 0]\n'acema' |  [0, 2, 0, 2, 0]\n\nLa palabra 'acuma' no es compatible por que la resupuesta que daría a 'acema' es <code>[0,0,2,0,0]</code> en lucar de <code>[0,2,0,2,0]</code>. La palabra 'aleda' sí que es compatible. \n\n",
      "metadata": {},
      "id": "7c7ebb2a"
    },
    {
      "cell_type": "markdown",
      "source": "# El programa principal\n\nPara desarrollar el programa empezaremos otra vez por la función principal del programa. Será parecida a la del programa anterior. Necesitamos el almacén de palabras y respuestas para poder averigüar la siguiente palabra compatible, a esa variable la llamaremos <code>storage</code>. Luego necesitamos la lista de palabras y la posición actual para poder seguir las palabras en orden.                           \n\nEn cada iteración buscamos la siguiente palabra compatible y almacenamos la nueva respuesta en el almacén. Por último un pequeño detalle, en un juego <em>perfecto</em>, el fácil demostar que el algoritmo anterior llega a la solución. El problema es que el da las respuestas y bien se puede equivocar o directamente intentar hacer trampas. En esos casos, es posible que no exista la siguiente palabra compatible. \n",
      "metadata": {},
      "id": "b8d558c2"
    },
    {
      "cell_type": "code",
      "source": "def computer(words_file):\n    pos = 0\n    words = read_words(words_file, WORD_LENTGH)\n    storage = []\n    game_cont = True\n    while game_cont:\n        pos = next_candidate(storage, words, pos)\n        if pos<len(words):\n            candidate = words[pos]\n            answer = get_answer(candidate)\n            add_answer(storage, candidate, answer)\n            pos += 1\n        game_cont = pos<len(words) and not are_all_in_pos(answer)\n    if pos==len(words):\n        print('You have chosen an illegal word or have given an incorrect answer')\n    else:\n        print(f'The secret word is {candidate}')\n    ",
      "metadata": {},
      "execution_count": null,
      "outputs": [],
      "id": "d63b5fde"
    },
    {
      "cell_type": "markdown",
      "source": "El programa anterior no funciona porque falta la definición de las varias funciones: <code>next_candidate</code>, <code>add_answer</code> y <code>get_answer</code>. Las funciones <code>read_words</code> y <code>are_all_in_pos</code> ya están definidas de la versión anterior. \n\nEn primer lugar daremos la función <code>add_answer</code>. Como parámetros de entrada hay una palabra candidata y debe devolver una lista de 0, 1 y 2 de la misma longitud de la palabra con la respuesta del usuario. El usuario responde con una secuencia de números separada por espacios. \n\nSe debe comprobar que la respuesta que da el usuario es la correcta, si no lo es se debe preguntar de nuevo al usuario. \n\nNo te olvides de escribir la documentación de la función.",
      "metadata": {},
      "id": "bc976460"
    },
    {
      "cell_type": "code",
      "source": "def get_answer(candidate):\n    candidate = candidate.lower()\n    print(candidate)\n    a = input(\"Your answer: \")\n    a = a.lower()\n    k=0\n    while k<5 and (len(a) != len(candidate) or a == ''):\n        print('You have entered an incorrect answer. Please try again')\n        a = input(\"Your answer: \")\n        a = a.lower()\n        k+=1\n    if k==5:\n        print('Please, stop cheating. You are a real pain in the ass to deal with.')\n        return\n    b = get_clues(a, candidate)\n    return b",
      "metadata": {
        "deletable": false,
        "nbgrader": {
          "cell_type": "code",
          "checksum": "732ba3d7d5cbf95a473f5a2104165fab",
          "grade": false,
          "grade_id": "get_answer",
          "locked": false,
          "schema_version": 3,
          "solution": true,
          "task": false
        }
      },
      "execution_count": null,
      "outputs": [],
      "id": "319def83"
    },
    {
      "cell_type": "markdown",
      "source": "En la casilla de que sigue comprueba que tu programa funciona correctamente. Escribe tus propias pruebas",
      "metadata": {},
      "id": "318a1087"
    },
    {
      "cell_type": "code",
      "source": "",
      "metadata": {},
      "execution_count": null,
      "outputs": [],
      "id": "ed14ba77"
    },
    {
      "cell_type": "code",
      "source": "### BEGIN HIDDEN TEST\ninput_ori = input\nclass MyInput():\n    def __init__(self, answers):\n        self.pos = 0\n        self.answers = answers\n    def input(self, msg):\n        if self.pos<len(self.answers):\n            ans = self.answers[self.pos]\n            self.pos += 1\n        else:\n            ans = ''\n        return ans\ntry:\n    test = ['0 1 0 1 2']\n    print(f'checking {test}....', end='')\n    myinput = MyInput(test)\n    input = myinput.input\n    answer = get_answer(\"abcde\")\n    assert answer==[0, 1, 0, 1, 2], f'La respuesta es {answer}'\n    print('ok')\n\n    test = ['0 0 1 2', '0 1 0 1 2']\n    print(f'checking {test}....', end='')\n    myinput = MyInput(test)\n    input = myinput.input\n    answer = get_answer(\"abcde\")\n    assert answer==[0, 1, 0, 1, 2], f'La respuesta es {answer}'\n    print('ok')\n\n\n    test = ['0 0 0 3 2', '0 1 0 1 2']\n    print(f'checking {test}....', end='')\n    myinput = MyInput(test)\n    input = myinput.input    \n    answer = get_answer(\"abcde\")\n    assert answer==[0, 1, 0, 1, 2], f'La respuesta es {answer}'\n    print('ok')\n\n\n    test = ['0 0 0 1 0 2', '0 1 0 1 2']\n    print(f'checking {test}....', end='')\n    myinput = MyInput(test)\n    input = myinput.input    \n    answer = get_answer(\"abcde\")\n    assert answer==[0, 1, 0, 1, 2], f'La respuesta es {answer}'\n    print('ok')\n\n\nfinally:\n    input = input_ori\n### END HIDDEN TEST",
      "metadata": {
        "deletable": false,
        "editable": false,
        "nbgrader": {
          "cell_type": "code",
          "checksum": "256f7f88cbe0775bebe91501fae8eeb1",
          "grade": true,
          "grade_id": "test_get_answer",
          "locked": true,
          "points": 1,
          "schema_version": 3,
          "solution": false,
          "task": false
        }
      },
      "execution_count": null,
      "outputs": [],
      "id": "8be036af"
    },
    {
      "cell_type": "markdown",
      "source": "A continuación vamos a por la función <code>add_answer</code>. Debe modifificar la variable <code>storage</code> que tiene como parámetro para que incorpore una nueva tupla con la palabra y la respuesta. El primer elemento de la tupla debe ser la palabra y la segunda la respuesta de forma que la variable storage tenga un contenido similar al siguiente\n\n    <code>[('ababa', [0, 2, 1, 2, 0]), ('acema', [0, 2, 0, 2, 0]), ('aleda', [0, 2, 0, 2, 0]) ]</code>\n\nRecuerda de escribir la documentación de la función",
      "metadata": {},
      "id": "8360ba82"
    },
    {
      "cell_type": "code",
      "source": "def add_answer(storage, candidate, answer):\n    candidate = candidate.lower()\n    storage.append(tuple((candidate,answer)))\n    return storage\n",
      "metadata": {
        "deletable": false,
        "nbgrader": {
          "cell_type": "code",
          "checksum": "510eae8b5dd4fa404c558d40e15c743d",
          "grade": false,
          "grade_id": "add_answer",
          "locked": false,
          "schema_version": 3,
          "solution": true,
          "task": false
        }
      },
      "execution_count": null,
      "outputs": [],
      "id": "9a454298"
    },
    {
      "cell_type": "markdown",
      "source": "En la casilla a continuación escribe las pruebas que hagas para ver que esa función está bien",
      "metadata": {},
      "id": "15a5add8"
    },
    {
      "cell_type": "code",
      "source": "",
      "metadata": {
        "deletable": false,
        "editable": false,
        "nbgrader": {
          "cell_type": "code",
          "checksum": "d37ddd6fa583c40a3fe5d8d858c92f45",
          "grade": true,
          "grade_id": "cell-bbfd707261b83342",
          "locked": true,
          "points": 1,
          "schema_version": 3,
          "solution": false,
          "task": false
        }
      },
      "execution_count": null,
      "outputs": [],
      "id": "ab75276f"
    },
    {
      "cell_type": "markdown",
      "source": "Para realizar la función <code>next_candidate</code> debebmos partir de la posición actual y encontrar la siguiente palabra compatible con el almacen en la lista de palabras. Por ello vamos a hacer primero una función que nos diga si una palabra es compatible con las almacenadas en el almacén. ",
      "metadata": {},
      "id": "15fb26dc"
    },
    {
      "cell_type": "code",
      "source": "def is_compatible(storage, word):\n    k = 0\n    for i in range(len(storage)):\n        if get_clues(word, storage[i][0]) != storage[i][1]:\n            k += 1\n    return k == 0",
      "metadata": {
        "deletable": false,
        "nbgrader": {
          "cell_type": "code",
          "checksum": "657693122bcb9d49550f224eb4392ca9",
          "grade": false,
          "grade_id": "is_compatible",
          "locked": false,
          "schema_version": 3,
          "solution": true,
          "task": false
        }
      },
      "execution_count": null,
      "outputs": [],
      "id": "dd43074c"
    },
    {
      "cell_type": "markdown",
      "source": "En la siguiente casilla puedes probar tu solución ",
      "metadata": {},
      "id": "ceb16257"
    },
    {
      "cell_type": "code",
      "source": "print(is_compatible([('aviones', [1, 2, 0, 1, 0, 2, 2]), ('arbitro', [1, 2, 0, 2, 1, 2, 1]), ('cochazo', [1, 1, 1, 2, 1, 1, 0])],'zancudo'))\nprint(is_compatible([('aviones', [1, 2, 0, 1, 0, 2, 2]), ('arbitro', [1, 2, 0, 2, 1, 2, 1]), ('cochazo', [2, 0, 1, 2, 1, 1, 0])],'zancudo'))\nprint(is_compatible([('aviones', [1, 2, 2, 1, 1, 2, 2]), ('arbitro', [1, 2, 2, 2, 2, 2, 0]), ('cochazo', [1, 1, 1, 2, 1, 1, 0])],'zancudo'))",
      "metadata": {},
      "execution_count": null,
      "outputs": [],
      "id": "1a821e21"
    },
    {
      "cell_type": "code",
      "source": "",
      "metadata": {
        "deletable": false,
        "editable": false,
        "nbgrader": {
          "cell_type": "code",
          "checksum": "e22fb3e0ae175ef0438bad18d61f5f85",
          "grade": true,
          "grade_id": "test_is_compatible",
          "locked": true,
          "points": 1,
          "schema_version": 3,
          "solution": false,
          "task": false
        }
      },
      "execution_count": null,
      "outputs": [],
      "id": "183345bf"
    },
    {
      "cell_type": "markdown",
      "source": "Ahora puedes dar la implementación de la función <code>next_candidate</code>. Fíjate en el lugar en el que se usa, te indicará los parámetros que tiene y lo que tiene que devolber. No te olvides de poner los comentarios adecuados en la definición",
      "metadata": {},
      "id": "040e80e0"
    },
    {
      "cell_type": "code",
      "source": "def next_candidate(storage, words, pos):\n    w = pos\n    if storage:\n        while w < len(words) and not is_compatible(storage, words[w]):\n            w += 1\n        return w\n    else:\n        return pos + 1",
      "metadata": {
        "deletable": false,
        "nbgrader": {
          "cell_type": "code",
          "checksum": "2a270fa7c4c6b4a13ada160feff420c1",
          "grade": false,
          "grade_id": "next_candidate",
          "locked": false,
          "schema_version": 3,
          "solution": true,
          "task": false
        }
      },
      "execution_count": null,
      "outputs": [],
      "id": "ac54d025"
    },
    {
      "cell_type": "markdown",
      "source": "En la siguiente casilla debes probar tu solución.",
      "metadata": {},
      "id": "273c3daf"
    },
    {
      "cell_type": "code",
      "source": "print(next_candidate([('banco', [2, 0, 2, 2, 0]), ('basto', [2, 0, 0, 2, 0]), ('campo', [2, 0, 2, 2, 0]), ('canto', [2, 0, 2, 2, 0]), \\\n                      ('cauto', [2, 0, 2, 2, 0]), ('dardo', [2, 0, 1, 2, 0]), ('falso', [2, 0, 2, 1, 0]), ('galgo', [1, 0, 2, 0, 0]), \\\n                      ('gasto', [1, 0, 0, 2, 0]), ('harto', [2, 0, 1, 2, 0]), ('jaleo', [2, 0, 2, 2, 0]), ('labio', [2, 0, 2, 2, 0]), \\\n                      ('macho', [2, 0, 2, 2, 0]), ('manto', [2, 0, 2, 2, 0]), ('pacto', [2, 0, 2, 2, 0]), ('parto', [2, 0, 1, 2, 0]), \\\n                      ('pasto', [2, 0, 0, 2, 0]), ('rasgo', [0, 0, 0, 0, 0]), ('sabio', [1, 0, 2, 2, 0]), ('salto', [1, 0, 2, 2, 0]), \\\n                      ('santo', [1, 0, 2, 2, 0]), ('tacto', [2, 0, 2, 2, 0]), ('vasto', [2, 0, 0, 2, 0]), ('yazco', [2, 0, 2, 2, 0]), \\\n                      ('zanco', [2, 0, 2, 2, 0])],['banco', 'basto', 'campo', 'canto', 'cauto', 'dardo', 'falso', 'galgo', \\\n                                                              'gasto', 'harto', 'jaleo', 'labio', 'macho', 'manto', 'pacto', 'parto', \\\n                                                              'pasto', 'rasgo', 'sabio', 'salto', 'santo', 'tacto', 'vasto', 'yazco', \\\n                                                              'zanco'],0))\ndef prueba():\n    k=0\n    l=[]\n    t=[('cacto', [1, 0, 0, 0, 0]), ('canto', [1, 0, 2, 0, 0]), ('capto', [1, 0, 2, 0, 0]), ('casto', [1, 0, 2, 0, 0]), ('cauto', [1, 0, 2, 0, 0])]\n    r=['balto', 'basto', 'cacto', 'canto', 'capto', 'casto', 'cauto', 'danto', 'facto', 'falto', 'fasto', 'gasto', 'harto', 'jacto', 'jauto', 'lacto', 'lasto', 'lauto', 'manto', 'masto', 'nanto', 'pacto', 'palto', 'parto', 'pasto', 'pauto', 'rapto', 'saeto', 'salto', 'santo', 'tacto', 'tanto', 'tasto', 'vasto', 'yanto']\n    while k<35 and k is not False:\n        s=next_candidate(t,r,k)\n        if s:\n            l.append(s)\n        k=s\n    for i in range(len(l)):\n        print(f'{r[l[i]]} in position {l[i]}')\nprueba()",
      "metadata": {},
      "execution_count": null,
      "outputs": [],
      "id": "b62495bf"
    },
    {
      "cell_type": "code",
      "source": "",
      "metadata": {
        "deletable": false,
        "editable": false,
        "nbgrader": {
          "cell_type": "code",
          "checksum": "b93aa43dd601d16aa09dceb85205c7ee",
          "grade": true,
          "grade_id": "test_next_candidate",
          "locked": true,
          "points": 1,
          "schema_version": 3,
          "solution": false,
          "task": false
        }
      },
      "execution_count": null,
      "outputs": [],
      "id": "57b5364f"
    },
    {
      "cell_type": "markdown",
      "source": "## Programa completo\n\nHa llegado el meomento de hacer el programa completo. Coge la función <code>computer</code> y todas las demás y ponlas a conticunación. La ejecuciön del programa genera un fichero <code>computer.py</code>",
      "metadata": {},
      "id": "edeee2d0"
    },
    {
      "cell_type": "code",
      "source": "%%file computer.py\n\ndef computer(words_file):\n    pos = 0\n    words = read_words(words_file, WORD_LENTGH)\n    storage = []\n    game_cont = True\n    while game_cont:\n        pos = next_candidate(storage, words, pos)\n        if pos < len(words):\n            candidate = words[pos]\n            answer = get_answer(candidate)\n            add_answer(storage, candidate, answer)\n            pos += 1\n        game_cont = pos < len(words) and not are_all_in_pos(answer)\n    if pos == len(words):\n        print('You have chosen an illegal word or have given an incorrect answer')\n    else:\n        print(f'The secret word is {candidate}')",
      "metadata": {
        "deletable": false,
        "nbgrader": {
          "cell_type": "code",
          "checksum": "b80be44ad166f034cab9a45d53ac3b06",
          "grade": false,
          "grade_id": "sol_completa",
          "locked": false,
          "schema_version": 3,
          "solution": true,
          "task": false
        }
      },
      "execution_count": null,
      "outputs": [],
      "id": "4c792a46"
    },
    {
      "cell_type": "markdown",
      "source": "Ejecuta tu programa en la siguiente casilla para ver si funciona bien",
      "metadata": {},
      "id": "07d0f8e8"
    },
    {
      "cell_type": "code",
      "source": "",
      "metadata": {},
      "execution_count": null,
      "outputs": [],
      "id": "74d499b9"
    },
    {
      "cell_type": "code",
      "source": "### BEGIN HIDDEN TEST\nimport sys \nimport io\n\nstdout = sys.stdout\ninput_ori = input\nclass MyInput():\n    def __init__(self, answers):\n        self.pos = 0\n        self.answers = answers\n    def input(self, msg):\n        if self.pos<len(self.answers):\n            ans = self.answers[self.pos]\n            self.pos += 1\n        else:\n            ans = ''\n        return ans\ntry:\n    myinput = MyInput(['0 2 1 2 1', \n                       '0 2 2 2 1', \n                       '0 2 2 0 2', \n                       '0 2 2 0 2',\n                       '0 2 2 0 0', \n                       '0 1 0 0 0', \n                       '0 0 0 0 0'])\n    \n    output = io.StringIO(\"\")\n    input = myinput.input\n    sys.stdout = output\n    computer(\"lemario.txt\")\n    assert output.getvalue() == 'The secret word is avion\\n', f'\"{output.getvalue()}\"'\n\n    myinput = MyInput(['0 2 1 2 1', \n                       '0 2 2 2 1', \n                       '0 2 2 0 2', \n                       '0 2 2 0 2',\n                       '0 2 2 0 0', \n                       '0 1 0 0 0', \n                       '0 0 0 0 1'])\n    \n    output = io.StringIO(\"\")\n    input = myinput.input\n    sys.stdout = output\n    computer(\"lemario.txt\")\n    assert output.getvalue() == 'You have chosen an illegal word or have given an incorect answer\\n', f'\"{output.getvalue()}\"'\n\n\n    \nfinally:\n    input = input_ori\n    sys.stdout = stdout\n### END HIDDEN TEST",
      "metadata": {
        "deletable": false,
        "editable": false,
        "nbgrader": {
          "cell_type": "code",
          "checksum": "4ea8acff7e2fe25a31b49bfdd39ee63d",
          "grade": true,
          "grade_id": "test_sol_completa",
          "locked": true,
          "points": 3,
          "schema_version": 3,
          "solution": false,
          "task": false
        }
      },
      "execution_count": null,
      "outputs": [],
      "id": "d409d5a2"
    },
    {
      "cell_type": "markdown",
      "source": "## Ordenador contra sí mismo\n\nPor último haz un programa que juegue contra sí mismo. Haz una función llamada\n<code>computer_vs_computer</code> de forma que el ordenador juegue contra sí mismo, sin hacer trampas. La función como las anteriores debe contener un el nombre de un fichero de palabras. Debe devolver una tupla, el primer elemento de la tupla debe ser la palabra seleccionada, el segundo una lista con las todas las respuestas calculadas. Para seleccionar la palabra usa la función <a href='https://docs.python.org/3.8/library/random.html#random.randint'><code>random.randint</code></a>",
      "metadata": {},
      "id": "5b80b1e0"
    },
    {
      "cell_type": "code",
      "source": "def computer_vs_computer(filename):\n    random.seed()\n    with open(filename, encoding=\"utf8\") as f:\n        r = f.readlines()\n        for i in range(len(r)):\n            r[i] = r[i].strip('\\n')\n        words = r\n    secret = words[random.randint(0, len(words) - 1)]\n    lords = read_words(filename, len(secret))\n    firstword = lords[random.randint(0, len(lords) - 1)]\n    storage = [(firstword, get_clues(secret, firstword))]\n    game_cont = True\n    pos = 0\n    attempts = 1\n    while game_cont:\n        pos = next_candidate(storage, lords, pos)\n        if pos < len(lords):\n            candidate = lords[pos]\n            answer = get_clues(secret, candidate)\n            storage = add_answer(storage, candidate, answer)\n        attempts += 1\n        game_cont = pos < len(lords) and not are_all_in_pos(answer) and attempts < MAX_ATTEMPTS\n    if pos == len(lords):\n        print('The computer just cheated! Or, maybe, the code\\'s wrong')\n    else:\n        return tuple((secret, storage))",
      "metadata": {
        "deletable": false,
        "nbgrader": {
          "cell_type": "code",
          "checksum": "f386ed85b539027441817bfc23c5030c",
          "grade": false,
          "grade_id": "computer_vs_computer",
          "locked": false,
          "schema_version": 3,
          "solution": true,
          "task": false
        }
      },
      "execution_count": null,
      "outputs": [],
      "id": "f59d5d28"
    },
    {
      "cell_type": "markdown",
      "source": "Ejecuta en la casilla siguientes pruebas para ver que realmente funciona.",
      "metadata": {},
      "id": "34100c4e"
    },
    {
      "cell_type": "code",
      "source": "computer_vs_computer('lemario.txt')",
      "metadata": {},
      "execution_count": null,
      "outputs": [],
      "id": "8a876ec8"
    },
    {
      "cell_type": "markdown",
      "source": "Por último, añade la función <code>computer_cvs_computer</code> al programa <code>computer.py</code>.",
      "metadata": {},
      "id": "f971ad1b"
    }
  ]
}
{
  "metadata": {
    "kernelspec": {
      "name": "python",
      "display_name": "Pyolite",
      "language": "python"
    },
    "language_info": {
      "codemirror_mode": {
        "name": "python",
        "version": 3
      },
      "file_extension": ".py",
      "mimetype": "text/x-python",
      "name": "python",
      "nbconvert_exporter": "python",
      "pygments_lexer": "ipython3",
      "version": "3.8"
    }
  },
  "nbformat_minor": 5,
  "nbformat": 4,
  "cells": [
    {
      "cell_type": "markdown",
      "source": "Before you turn this problem in, make sure everything runs as expected. First, **restart the kernel** (in the menubar, select Kernel$\\rightarrow$Restart) and then **run all cells** (in the menubar, select Cell$\\rightarrow$Run All).\n\nMake sure you fill in any place that says `YOUR CODE HERE` or \"YOUR ANSWER HERE\", as well as your name and collaborators below:",
      "metadata": {},
      "id": "6d5859a6"
    },
    {
      "cell_type": "code",
      "source": "NAME = \"NOÉ FUENTES PÉREZ\"\nCOLLABORATORS = \"\"",
      "metadata": {
        "trusted": true
      },
      "execution_count": null,
      "outputs": [],
      "id": "7451b3f3"
    },
    {
      "cell_type": "markdown",
      "source": "---",
      "metadata": {},
      "id": "5d7b1d14"
    },
    {
      "cell_type": "markdown",
      "source": "# Un juego de palabras\n\nEn esta práctica vamos a realizar un juego similar al <a href='https://wordle.danielfrg.com/'>wordle</a>. Es un juego en el se trata de adivinar palabras de una longitud determinada con las pistas que se van propocionando.\n\n## Lectura de palabras\nPara empezar vamos a empezar a estudiar como alimentamos a nuestro programas con un juego de palabras adecuado.\nGracias a Ismael Olea hay un <a href='https://github.com/olea/lemarios'>repositorio de palabras del español</a> que pueden servir para distintos propósitos. En particular nostros tenemos un fichero llamado <a href='lemario.txt'><code>lemario.txt</code></a> que tiene todas las palabras válidas, una palabra por línea.",
      "metadata": {},
      "id": "46715050"
    },
    {
      "cell_type": "markdown",
      "source": "Lo primero que vamos a hacer es una función que se llame <code>read_words</code> que reciba como parámetros:\n* el nombre del fichero \n* la longitud de palabra deseada \nLa función debe devolver una lista con las palabras del fichero de la longitud deseada. Acuérdate de tratar adecuadamente los caracteres de final de línea.",
      "metadata": {},
      "id": "94b1fcbe"
    },
    {
      "cell_type": "code",
      "source": "def read_words(filename, wlen):\n    with open(filename, encoding=\"utf8\") as f:\n        lst = []\n        r = f.readline()\n        while r != '':\n            if len(r.strip('\\n')) == wlen:\n                lst.append(r.strip('\\n'))\n            r = f.readline()\n        return lst",
      "metadata": {
        "deletable": false,
        "nbgrader": {
          "cell_type": "code",
          "checksum": "5dd6e0aec4182de6fb979ae14922990f",
          "grade": false,
          "grade_id": "read_words",
          "locked": false,
          "schema_version": 3,
          "solution": true,
          "task": false
        },
        "tags": [],
        "trusted": true
      },
      "execution_count": null,
      "outputs": [],
      "id": "88da85b2"
    },
    {
      "cell_type": "markdown",
      "source": "Debes escribir algunas pruebas en la siguiente celda para ver que has leído correctamennte las palabras.",
      "metadata": {},
      "id": "5cdbd631"
    },
    {
      "cell_type": "code",
      "source": "print(read_words(\"lemario.txt\", 2))\nprint(read_words(\"lemario.txt\", 0))",
      "metadata": {
        "trusted": true
      },
      "execution_count": null,
      "outputs": [],
      "id": "7cb94df3"
    },
    {
      "cell_type": "code",
      "source": "",
      "metadata": {
        "deletable": false,
        "editable": false,
        "nbgrader": {
          "cell_type": "code",
          "checksum": "63a0d9d583176df04c80d9a5e7fe674f",
          "grade": true,
          "grade_id": "correct_read_words",
          "locked": true,
          "points": 1,
          "schema_version": 3,
          "solution": false,
          "task": false
        }
      },
      "execution_count": null,
      "outputs": [],
      "id": "595004bd"
    },
    {
      "cell_type": "markdown",
      "source": "## Jugador humano\n\nVamos a hacer un primer porgrama que el ordenador escoga una palabra. Le pida al jugador una palabra y que le indique las pistas adecuadas. Para cada letra que ha puesto el jugador, se debe indicar lo siguiente:\n- La letra está en la palabra y en la posición adecuada. Lo vamos a indicar con 0\n- La letra está pero en otra posición. Lo vamos a indicar con una 1\n- La letra no esta en la palabra. Lo vamos a indicar con 2\nPara no equivocarnos a lo largo del programa con los valores elegidos vamos a definir unas constantes",
      "metadata": {},
      "id": "ea115195"
    },
    {
      "cell_type": "code",
      "source": "LETTER_IN_POS = 0\nLETTER_IN_NO_POS = 1\nLETTER_NOT_IN = 2\nMAX_ATTEMPS = 6\nWORD_LENTGH = 5",
      "metadata": {
        "deletable": false,
        "editable": false,
        "nbgrader": {
          "cell_type": "code",
          "checksum": "8b41c69ed98ea2c3dc57110ce8b7363a",
          "grade": false,
          "grade_id": "cell-a77049771b0d3d77",
          "locked": true,
          "schema_version": 3,
          "solution": false,
          "task": false
        },
        "trusted": true
      },
      "execution_count": null,
      "outputs": [],
      "id": "9be39a88"
    },
    {
      "cell_type": "markdown",
      "source": "De esta forma el esqueleto del programa queda como sigue",
      "metadata": {},
      "id": "98a95018"
    },
    {
      "cell_type": "code",
      "source": "import random\n \nLETTER_IN_POS = 0\nLETTER_IN_NO_POS = 1\nLETTER_NOT_IN = 2\nMAX_ATTEMPTS = 6\nWORD_LENTGH = 5\n\ndef read_words(filename, length):\n    \"\"\"\n    This function reads the filename. Each line contains a word.\n    This function returns a list with the words with the indicated length \n    \"\"\"\n    ### Substute pass by the implementation you already have\n    pass\n\ndef get_clues(secret, user_word):\n    \"\"\" \n    This funcction returns the clues for the word user_word with respect secret. \n    For each letter it returns \n      - LETTER_IN_POS if the letter is in secret in the same position. \n      - LETTER_IN_NO_POS if the letter is in secret but in another position.\n      - LETTER_NOT_IN if the letter is not in secret.\n    The function returns a list with the corresponding values.\n    Example\n    secret = 'GOTAS'\n    user_word = 'GALGO'\n    returns -> [LETTER_IN_POS, LETTER_IN_POS, LETTER_NOT_IN, LETTER_IN_NO_POS, LETTER_IN_NO_POS]\n    \"\"\"\n    ### You should substute pass your implementation later\n    pass\n\n\ndef are_all_in_pos(answer):\n    \"\"\"\n    This function returns a boolean.\n    It returns True if all elements in the list answer are LETTER_IN_POS.\n    \"\"\"\n    ### You should substute pass your implementation later\n    pass\n\ndef human(word_file):\n    random.seed() \n    words = read_words(word_file, WORD_LENTGH)\n    secret = words[random.randint(0, len(words)-1)]\n    game_cont = True\n    attempts = 0\n    while game_cont:\n        user_word = input('Your word: ')\n        answer = get_clues(secret, user_word)\n        print(answer)\n        attempts = attempts + 1\n        game_cont = not are_all_in_pos(answer) and attempts<MAX_ATTEMPTS\n    if user_word == secret:\n        print('Congratulations, you have found the secret word')\n    else:\n        print(f'Sorry, the secret word was: \"{secret}\"\\nTry again!')        \n",
      "metadata": {
        "deletable": false,
        "editable": false,
        "nbgrader": {
          "cell_type": "code",
          "checksum": "91644f896e33d80c989374f7a9be976a",
          "grade": false,
          "grade_id": "cell-983e5f3fcea994fe",
          "locked": true,
          "schema_version": 3,
          "solution": false,
          "task": false
        },
        "trusted": true
      },
      "execution_count": null,
      "outputs": [],
      "id": "3cbb35a8"
    },
    {
      "cell_type": "markdown",
      "source": "En el esquema que tienes faltan 3 funciones. Una ya la tienes implementada <code>read_words</code>. Debes hacer las otras dos funciones. En primer lugar la función <code>get_clues</code>. Esta función debe calcular las pistas que se dan para cada palabra. Se va a devolver una lista con una entrada por cada letra en la respuesta del usuario. Si la letra está en su posición se devuelve 0, si está pero en otra posición 1 y si no está 2.\nPor ejemplo si la palabra es \"colza\" y el usuario introduce \"canto\", la función debe devolver la lista <code>[0,1,2,2,1]</code> ",
      "metadata": {},
      "id": "bbcbd863"
    },
    {
      "cell_type": "code",
      "source": "def get_clues(secret, user_word):\n    secret = secret.lower()\n    user_word = user_word.lower()\n    replacements = ((\"á\", \"a\"), (\"é\", \"e\"), (\"í\", \"i\"), (\"ó\", \"o\"), (\"ú\", \"u\"))\n    for a, b in replacements:\n        secret = secret.replace(a, b)\n        user_word = user_word.replace(a, b)\n    if len(user_word) != len(secret):\n        raise Exception(f'Debes introducir una palabra de longitud {len(secret)}')\n    clues = []\n    s = [m for m in secret]\n    uw = [n for n in user_word]\n    for i in range(len(s)):\n        if s[i] == uw[i]:\n            clues.append(0)\n        elif uw[i] in s:\n            clues.append(1)\n        else:\n            clues.append(2)\n    return clues",
      "metadata": {
        "deletable": false,
        "nbgrader": {
          "cell_type": "code",
          "checksum": "9f4178c8a8c15b61458e97009a0f55bb",
          "grade": false,
          "grade_id": "get_clues",
          "locked": false,
          "schema_version": 3,
          "solution": true,
          "task": false
        },
        "trusted": true
      },
      "execution_count": null,
      "outputs": [],
      "id": "2eb726cd"
    },
    {
      "cell_type": "markdown",
      "source": "Escribe en la casilla siguiente pruebas para ver que tu función es correcta",
      "metadata": {},
      "id": "d8541768"
    },
    {
      "cell_type": "code",
      "source": "\n\n\n\n",
      "metadata": {},
      "execution_count": null,
      "outputs": [],
      "id": "85b4475a"
    },
    {
      "cell_type": "code",
      "source": "",
      "metadata": {
        "deletable": false,
        "editable": false,
        "nbgrader": {
          "cell_type": "code",
          "checksum": "1cd297bc37f9a7dd65e2e09f1f355fea",
          "grade": true,
          "grade_id": "anser_get_clues",
          "locked": true,
          "points": 1,
          "schema_version": 3,
          "solution": false,
          "task": false
        }
      },
      "execution_count": null,
      "outputs": [],
      "id": "bf3021bc"
    },
    {
      "cell_type": "markdown",
      "source": "Ahora debes implementar la función que falta <code>are_all_in_pos</code> que devuelve el booleano <code>True</code> si todos los elementos indican que hay una letra en su sitio.",
      "metadata": {},
      "id": "a9ad4492"
    },
    {
      "cell_type": "code",
      "source": "def are_all_in_pos(answer):\n    return answer == [0] * len(answer)",
      "metadata": {
        "deletable": false,
        "nbgrader": {
          "cell_type": "code",
          "checksum": "64f99109b16f662686118a25f72210d2",
          "grade": false,
          "grade_id": "are_all_in_pos",
          "locked": false,
          "schema_version": 3,
          "solution": true,
          "task": false
        },
        "trusted": true
      },
      "execution_count": null,
      "outputs": [],
      "id": "4eaf0038"
    },
    {
      "cell_type": "markdown",
      "source": "Escribe en la casilla siguiente pruebas para ver que tu función es correcta",
      "metadata": {},
      "id": "baa8fd0c"
    },
    {
      "cell_type": "code",
      "source": "",
      "metadata": {},
      "execution_count": null,
      "outputs": [],
      "id": "cd049a21"
    },
    {
      "cell_type": "code",
      "source": "",
      "metadata": {
        "deletable": false,
        "editable": false,
        "nbgrader": {
          "cell_type": "code",
          "checksum": "f20e68fb06cae3874e4137490b8316e0",
          "grade": true,
          "grade_id": "correct_are_all_in_pos",
          "locked": true,
          "points": 1,
          "schema_version": 3,
          "solution": false,
          "task": false
        }
      },
      "execution_count": null,
      "outputs": [],
      "id": "71cfdc23"
    },
    {
      "cell_type": "markdown",
      "source": "Para acabar esta parte pon todas las piezas juntas y escribe el programa entero. La casilla genera un fichero llamado <code>human.py</code> con su contenido. ",
      "metadata": {},
      "id": "951d9f07"
    },
    {
      "cell_type": "code",
      "source": "%%file human.py\n\ndef human(word_file):\n    random.seed()\n    words = read_words(word_file, WORD_LENGTH)\n    secret = words[random.randint(0, len(words) - 1)]\n    game_cont = True\n    attempts = 0\n    while game_cont:\n        user_word = input('Your word: ')\n        answer = get_clues(secret, user_word)\n        print(answer)\n        attempts = attempts + 1\n        game_cont = not are_all_in_pos(answer) and attempts < MAX_ATTEMPTS\n    if user_word == secret:\n        print('Congratulations, you have found the secret word')\n    else:\n        print(f'Sorry, the secret word was: \"{secret}\"\\nTry again!')\n",
      "metadata": {
        "deletable": false,
        "nbgrader": {
          "cell_type": "code",
          "checksum": "22ffc1422f1ca73a700c1bf0e053b592",
          "grade": false,
          "grade_id": "cell-49e3426add93dac2",
          "locked": false,
          "schema_version": 3,
          "solution": true,
          "task": false
        },
        "trusted": true
      },
      "execution_count": null,
      "outputs": [],
      "id": "243f590b"
    },
    {
      "cell_type": "markdown",
      "source": "Escribe en la casilla siguiente pruebas para ver que tu función es correcta",
      "metadata": {},
      "id": "206dcaf2"
    },
    {
      "cell_type": "code",
      "source": "",
      "metadata": {},
      "execution_count": null,
      "outputs": [],
      "id": "20914ca5"
    },
    {
      "cell_type": "code",
      "source": "",
      "metadata": {
        "deletable": false,
        "editable": false,
        "nbgrader": {
          "cell_type": "code",
          "checksum": "18a073202008599ba1041a66f63b4cfb",
          "grade": true,
          "grade_id": "cell-c6c3482716c2be7e",
          "locked": true,
          "points": 3,
          "schema_version": 3,
          "solution": false,
          "task": false
        }
      },
      "execution_count": null,
      "outputs": [],
      "id": "b181462d"
    }
  ]
}
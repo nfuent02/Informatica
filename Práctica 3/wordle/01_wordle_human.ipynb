{
 "cells": [
  {
   "cell_type": "markdown",
   "id": "6d5859a6",
   "metadata": {},
   "source": [
    "Before you turn this problem in, make sure everything runs as expected. First, **restart the kernel** (in the menubar, select Kernel$\\rightarrow$Restart) and then **run all cells** (in the menubar, select Cell$\\rightarrow$Run All).\n",
    "\n",
    "Make sure you fill in any place that says `YOUR CODE HERE` or \"YOUR ANSWER HERE\", as well as your name and collaborators below:"
   ]
  },
  {
   "cell_type": "code",
   "execution_count": null,
   "id": "7451b3f3",
   "metadata": {},
   "outputs": [],
   "source": [
    "NAME = \"\"\n",
    "COLLABORATORS = \"\""
   ]
  },
  {
   "cell_type": "markdown",
   "id": "5d7b1d14",
   "metadata": {},
   "source": [
    "---"
   ]
  },
  {
   "cell_type": "markdown",
   "id": "46715050",
   "metadata": {},
   "source": [
    "# Un juego de palabras\n",
    "\n",
    "En esta práctica vamos a realizar un juego similar al <a href='https://wordle.danielfrg.com/'>wordle</a>. Es un juego en el se trata de adivinar palabras de una longitud determinada con las pistas que se van propocionando.\n",
    "\n",
    "## Lectura de palabras\n",
    "Para empezar vamos a empezar a estudiar como alimentamos a nuestro programas con un juego de palabras adecuado.\n",
    "Gracias a Ismael Olea hay un <a href='https://github.com/olea/lemarios'>repositorio de palabras del español</a> que pueden servir para distintos propósitos. En particular nostros tenemos un fichero llamado <a href='lemario.txt'><code>lemario.txt</code></a> que tiene todas las palabras válidas, una palabra por línea."
   ]
  },
  {
   "cell_type": "markdown",
   "id": "94b1fcbe",
   "metadata": {},
   "source": [
    "Lo primero que vamos a hacer es una función que se llame <code>read_words</code> que reciba como parámetros:\n",
    "* el nombre del fichero \n",
    "* la longitud de palabra deseada \n",
    "La función debe devolver una lista con las palabras del fichero de la longitud deseada. Acuérdate de tratar adecuadamente los caracteres de final de línea."
   ]
  },
  {
   "cell_type": "code",
   "execution_count": null,
   "id": "88da85b2",
   "metadata": {
    "deletable": false,
    "nbgrader": {
     "cell_type": "code",
     "checksum": "5dd6e0aec4182de6fb979ae14922990f",
     "grade": false,
     "grade_id": "read_words",
     "locked": false,
     "schema_version": 3,
     "solution": true,
     "task": false
    }
   },
   "outputs": [],
   "source": [
    "# YOUR CODE HERE\n",
    "raise NotImplementedError()"
   ]
  },
  {
   "cell_type": "markdown",
   "id": "5cdbd631",
   "metadata": {},
   "source": [
    "Debes escribir algunas pruebas en la siguiente celda para ver que has leído correctamennte las palabras."
   ]
  },
  {
   "cell_type": "code",
   "execution_count": null,
   "id": "7cb94df3",
   "metadata": {},
   "outputs": [],
   "source": []
  },
  {
   "cell_type": "code",
   "execution_count": null,
   "id": "595004bd",
   "metadata": {
    "deletable": false,
    "editable": false,
    "nbgrader": {
     "cell_type": "code",
     "checksum": "63a0d9d583176df04c80d9a5e7fe674f",
     "grade": true,
     "grade_id": "correct_read_words",
     "locked": true,
     "points": 1,
     "schema_version": 3,
     "solution": false,
     "task": false
    }
   },
   "outputs": [],
   "source": []
  },
  {
   "cell_type": "markdown",
   "id": "ea115195",
   "metadata": {},
   "source": [
    "## Jugador humano\n",
    "\n",
    "Vamos a hacer un primer porgrama que el ordenador escoga una palabra. Le pida al jugador una palabra y que le indique las pistas adecuadas. Para cada letra que ha puesto el jugador, se debe indicar lo siguiente:\n",
    "- La letra está en la palabra y en la posición adecuada. Lo vamos a indicar con 0\n",
    "- La letra está pero en otra posición. Lo vamos a indicar con una 1\n",
    "- La letra no esta en la palabra. Lo vamos a indicar con 2\n",
    "Para no equivocarnos a lo largo del programa con los valores elegidos vamos a definir unas constantes"
   ]
  },
  {
   "cell_type": "code",
   "execution_count": null,
   "id": "9be39a88",
   "metadata": {
    "deletable": false,
    "editable": false,
    "nbgrader": {
     "cell_type": "code",
     "checksum": "8b41c69ed98ea2c3dc57110ce8b7363a",
     "grade": false,
     "grade_id": "cell-a77049771b0d3d77",
     "locked": true,
     "schema_version": 3,
     "solution": false,
     "task": false
    }
   },
   "outputs": [],
   "source": [
    "LETTER_IN_POS = 0\n",
    "LETTER_IN_NO_POS = 1\n",
    "LETTER_NOT_IN = 2\n",
    "MAX_ATTEMPS = 6\n",
    "WORD_LENTGH = 5"
   ]
  },
  {
   "cell_type": "markdown",
   "id": "98a95018",
   "metadata": {},
   "source": [
    "De esta forma el esqueleto del programa queda como sigue"
   ]
  },
  {
   "cell_type": "code",
   "execution_count": null,
   "id": "3cbb35a8",
   "metadata": {
    "deletable": false,
    "editable": false,
    "nbgrader": {
     "cell_type": "code",
     "checksum": "91644f896e33d80c989374f7a9be976a",
     "grade": false,
     "grade_id": "cell-983e5f3fcea994fe",
     "locked": true,
     "schema_version": 3,
     "solution": false,
     "task": false
    }
   },
   "outputs": [],
   "source": [
    "import random\n",
    " \n",
    "LETTER_IN_POS = 0\n",
    "LETTER_IN_NO_POS = 1\n",
    "LETTER_NOT_IN = 2\n",
    "MAX_ATTEMPTS = 6\n",
    "WORD_LENTGH = 5\n",
    "\n",
    "def read_words(filename, length):\n",
    "    \"\"\"\n",
    "    This function reads the filename. Each line contains a word.\n",
    "    This function returns a list with the words with the indicated length \n",
    "    \"\"\"\n",
    "    ### Substute pass by the implementation you already have\n",
    "    pass\n",
    "\n",
    "def get_clues(secret, user_word):\n",
    "    \"\"\" \n",
    "    This funcction returns the clues for the word user_word with respect secret. \n",
    "    For each letter it returns \n",
    "      - LETTER_IN_POS if the letter is in secret in the same position. \n",
    "      - LETTER_IN_NO_POS if the letter is in secret but in another position.\n",
    "      - LETTER_NOT_IN if the letter is not in secret.\n",
    "    The function returns a list with the corresponding values.\n",
    "    Example\n",
    "    secret = 'GOTAS'\n",
    "    user_word = 'GALGO'\n",
    "    returns -> [LETTER_IN_POS, LETTER_IN_POS, LETTER_NOT_IN, LETTER_IN_NO_POS, LETTER_IN_NO_POS]\n",
    "    \"\"\"\n",
    "    ### You should substute pass your implementation later\n",
    "    pass\n",
    "\n",
    "\n",
    "def are_all_in_pos(answer):\n",
    "    \"\"\"\n",
    "    This function returns a boolean.\n",
    "    It returns True if all elements in the list answer are LETTER_IN_POS.\n",
    "    \"\"\"\n",
    "    ### You should substute pass your implementation later\n",
    "    pass\n",
    "\n",
    "def human(word_file):\n",
    "    random.seed() \n",
    "    words = read_words(word_file, WORD_LENTGH)\n",
    "    secret = words[random.randint(0, len(words)-1)]\n",
    "    game_cont = True\n",
    "    attempts = 0\n",
    "    while game_cont:\n",
    "        user_word = input('Your word: ')\n",
    "        answer = get_clues(secret, user_word)\n",
    "        print(answer)\n",
    "        attempts = attempts + 1\n",
    "        game_cont = not are_all_in_pos(answer) and attempts<MAX_ATTEMPTS\n",
    "    if user_word == secret:\n",
    "        print('Congratulations, you have found the secret word')\n",
    "    else:\n",
    "        print(f'Sorry, the secret word was: \"{secret}\"\\nTry again!')        \n"
   ]
  },
  {
   "cell_type": "markdown",
   "id": "bbcbd863",
   "metadata": {},
   "source": [
    "En el esquema que tienes faltan 3 funciones. Una ya la tienes implementada <code>read_words</code>. Debes hacer las otras dos funciones. En primer lugar la función <code>get_clues</code>. Esta función debe calcular las pistas que se dan para cada palabra. Se va a devolver una lista con una entrada por cada letra en la respuesta del usuario. Si la letra está en su posición se devuelve 0, si está pero en otra posición 1 y si no está 2.\n",
    "Por ejemplo si la palabra es \"colza\" y el usuario introduce \"canto\", la función debe devolver la lista <code>[0,1,2,2,1]</code> "
   ]
  },
  {
   "cell_type": "code",
   "execution_count": null,
   "id": "2eb726cd",
   "metadata": {
    "deletable": false,
    "nbgrader": {
     "cell_type": "code",
     "checksum": "9f4178c8a8c15b61458e97009a0f55bb",
     "grade": false,
     "grade_id": "get_clues",
     "locked": false,
     "schema_version": 3,
     "solution": true,
     "task": false
    }
   },
   "outputs": [],
   "source": [
    "# YOUR CODE HERE\n",
    "raise NotImplementedError()"
   ]
  },
  {
   "cell_type": "markdown",
   "id": "d8541768",
   "metadata": {},
   "source": [
    "Escribe en la casilla siguiente pruebas para ver que tu función es correcta"
   ]
  },
  {
   "cell_type": "code",
   "execution_count": null,
   "id": "85b4475a",
   "metadata": {},
   "outputs": [],
   "source": [
    "\n",
    "\n",
    "\n",
    "\n"
   ]
  },
  {
   "cell_type": "code",
   "execution_count": null,
   "id": "bf3021bc",
   "metadata": {
    "deletable": false,
    "editable": false,
    "nbgrader": {
     "cell_type": "code",
     "checksum": "1cd297bc37f9a7dd65e2e09f1f355fea",
     "grade": true,
     "grade_id": "anser_get_clues",
     "locked": true,
     "points": 1,
     "schema_version": 3,
     "solution": false,
     "task": false
    }
   },
   "outputs": [],
   "source": []
  },
  {
   "cell_type": "markdown",
   "id": "a9ad4492",
   "metadata": {},
   "source": [
    "Ahora debes implementar la función que falta <code>are_all_in_pos</code> que devuelve el booleano <code>True</code> si todos los elementos indican que hay una letra en su sitio."
   ]
  },
  {
   "cell_type": "code",
   "execution_count": null,
   "id": "4eaf0038",
   "metadata": {
    "deletable": false,
    "nbgrader": {
     "cell_type": "code",
     "checksum": "64f99109b16f662686118a25f72210d2",
     "grade": false,
     "grade_id": "are_all_in_pos",
     "locked": false,
     "schema_version": 3,
     "solution": true,
     "task": false
    }
   },
   "outputs": [],
   "source": [
    "# YOUR CODE HERE\n",
    "raise NotImplementedError()"
   ]
  },
  {
   "cell_type": "markdown",
   "id": "baa8fd0c",
   "metadata": {},
   "source": [
    "Escribe en la casilla siguiente pruebas para ver que tu función es correcta"
   ]
  },
  {
   "cell_type": "code",
   "execution_count": null,
   "id": "cd049a21",
   "metadata": {},
   "outputs": [],
   "source": []
  },
  {
   "cell_type": "code",
   "execution_count": null,
   "id": "71cfdc23",
   "metadata": {
    "deletable": false,
    "editable": false,
    "nbgrader": {
     "cell_type": "code",
     "checksum": "f20e68fb06cae3874e4137490b8316e0",
     "grade": true,
     "grade_id": "correct_are_all_in_pos",
     "locked": true,
     "points": 1,
     "schema_version": 3,
     "solution": false,
     "task": false
    }
   },
   "outputs": [],
   "source": []
  },
  {
   "cell_type": "markdown",
   "id": "951d9f07",
   "metadata": {},
   "source": [
    "Para acabar esta parte pon todas las piezas juntas y escribe el programa entero. La casilla genera un fichero llamado <code>human.py</code> con su contenido. "
   ]
  },
  {
   "cell_type": "code",
   "execution_count": null,
   "id": "243f590b",
   "metadata": {
    "deletable": false,
    "nbgrader": {
     "cell_type": "code",
     "checksum": "22ffc1422f1ca73a700c1bf0e053b592",
     "grade": false,
     "grade_id": "cell-49e3426add93dac2",
     "locked": false,
     "schema_version": 3,
     "solution": true,
     "task": false
    }
   },
   "outputs": [],
   "source": [
    "%%file human.py\n",
    "\n",
    "# YOUR CODE HERE\n",
    "raise NotImplementedError()\n"
   ]
  },
  {
   "cell_type": "markdown",
   "id": "206dcaf2",
   "metadata": {},
   "source": [
    "Escribe en la casilla siguiente pruebas para ver que tu función es correcta"
   ]
  },
  {
   "cell_type": "code",
   "execution_count": null,
   "id": "20914ca5",
   "metadata": {},
   "outputs": [],
   "source": []
  },
  {
   "cell_type": "code",
   "execution_count": null,
   "id": "b181462d",
   "metadata": {
    "deletable": false,
    "editable": false,
    "nbgrader": {
     "cell_type": "code",
     "checksum": "18a073202008599ba1041a66f63b4cfb",
     "grade": true,
     "grade_id": "cell-c6c3482716c2be7e",
     "locked": true,
     "points": 3,
     "schema_version": 3,
     "solution": false,
     "task": false
    }
   },
   "outputs": [],
   "source": []
  }
 ],
 "metadata": {
  "kernelspec": {
   "display_name": "Python 3",
   "language": "python",
   "name": "python3"
  },
  "language_info": {
   "codemirror_mode": {
    "name": "ipython",
    "version": 3
   },
   "file_extension": ".py",
   "mimetype": "text/x-python",
   "name": "python",
   "nbconvert_exporter": "python",
   "pygments_lexer": "ipython3",
   "version": "3.8.10"
  }
 },
 "nbformat": 4,
 "nbformat_minor": 5
}

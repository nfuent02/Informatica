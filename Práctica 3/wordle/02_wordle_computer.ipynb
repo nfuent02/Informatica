{
 "cells": [
  {
   "cell_type": "markdown",
   "id": "437c0ecf",
   "metadata": {},
   "source": [
    "Before you turn this problem in, make sure everything runs as expected. First, **restart the kernel** (in the menubar, select Kernel$\\rightarrow$Restart) and then **run all cells** (in the menubar, select Cell$\\rightarrow$Run All).\n",
    "\n",
    "Make sure you fill in any place that says `YOUR CODE HERE` or \"YOUR ANSWER HERE\", as well as your name and collaborators below:"
   ]
  },
  {
   "cell_type": "code",
   "execution_count": null,
   "id": "1139ea23",
   "metadata": {},
   "outputs": [],
   "source": [
    "NAME = \"\"\n",
    "COLLABORATORS = \"\""
   ]
  },
  {
   "cell_type": "markdown",
   "id": "81348e74",
   "metadata": {},
   "source": [
    "---"
   ]
  },
  {
   "cell_type": "markdown",
   "id": "5691d711",
   "metadata": {},
   "source": [
    "# El ordenador juega al Wordle\n",
    "\n",
    "En este segundo apartado vamos a hacer un programa que juege al wordle. El ordenador va a tratar de encontrar la palabra que nosotros hayamos escogido. Para no hacer trampas debemos escoger una palabra que se encuentre el el fichero <code>lemario.txt</code>. Vamos a coger una palabra de 5 letras, si quisieramos cambiar esa longitud deberíamos cambiar las constantes de forma adecuada. Por ahora vamos a coger las constantes que ya teníamos definidas."
   ]
  },
  {
   "cell_type": "code",
   "execution_count": null,
   "id": "119ff18a",
   "metadata": {
    "deletable": false,
    "editable": false,
    "nbgrader": {
     "cell_type": "code",
     "checksum": "fc9ae06a352c38ae0a199da55296d93c",
     "grade": false,
     "grade_id": "cell-08657e4f82877415",
     "locked": true,
     "schema_version": 3,
     "solution": false,
     "task": false
    }
   },
   "outputs": [],
   "source": [
    "LETTER_IN_POS = 0\n",
    "LETTER_IN_NO_POS = 1\n",
    "LETTER_NOT_IN = 2\n",
    "MAX_ATTEMPTS = 6\n",
    "WORD_LENTGH = 5"
   ]
  },
  {
   "cell_type": "markdown",
   "id": "555ee1f8",
   "metadata": {},
   "source": [
    "De entrada, tendremos que usar las funciones que ya teníamos en el apartado anterior."
   ]
  },
  {
   "cell_type": "code",
   "execution_count": null,
   "id": "f6b53b02",
   "metadata": {
    "deletable": false,
    "nbgrader": {
     "cell_type": "code",
     "checksum": "09ba5763de3b66be04ef75e423be6e66",
     "grade": false,
     "grade_id": "cell-988ffeb76b0056bd",
     "locked": false,
     "schema_version": 3,
     "solution": true,
     "task": false
    }
   },
   "outputs": [],
   "source": [
    "LETTER_IN_POS = 0\n",
    "LETTER_IN_NO_POS = 1\n",
    "LETTER_NOT_IN = 2\n",
    "MAX_ATTEMPTS = 6\n",
    "WORD_LENTGH = 5\n",
    "\n",
    "def read_words(filename, length):\n",
    "    \"\"\"\n",
    "    This function reads the filename. Each line contains a word.\n",
    "    This function returns a list with the words with the indicated length \n",
    "    \"\"\"\n",
    "    # YOUR CODE HERE\n",
    "    raise NotImplementedError()\n",
    "\n",
    "\n",
    "def get_clues(secret, user_word):\n",
    "    \"\"\" \n",
    "    This funcction returns the clues for the word user_word with respect secret. \n",
    "    For each letter it returns \n",
    "      - LETTER_IN_POS if the letter is in secret in the same position. \n",
    "      - LETTER_IN_NO_POS if the letter is in secret but in another position.\n",
    "      - LETTER_NOT_IN if the letter is not in secret.\n",
    "    The function returns a list with the corresponding values.\n",
    "    Example\n",
    "    secret = 'GOTAS'\n",
    "    user_word = 'GALGO'\n",
    "    returns -> [LETTER_IN_POS, LETTER_IN_POS, LETTER_NOT_IN, LETTER_IN_NO_POS, LETTER_IN_NO_POS]\n",
    "    \"\"\"\n",
    "    # YOUR CODE HERE\n",
    "    raise NotImplementedError()\n",
    "\n",
    "def are_all_in_pos(answer):\n",
    "    \"\"\"\n",
    "    This function returns a boolean.\n",
    "    It returns True if all elements in the list answer are LETTER_IN_POS.\n",
    "    \"\"\"\n",
    "    # YOUR CODE HERE\n",
    "    raise NotImplementedError()\n",
    "\n"
   ]
  },
  {
   "cell_type": "markdown",
   "id": "7c7ebb2a",
   "metadata": {},
   "source": [
    "## El algoritmo\n",
    "\n",
    "Veamos someramente el algoritmo que va a seguir nuestro programa. Tenemos todas las posibles palabras almacenadas en una lista. El programa escoge la primera palabra de la lista y la propone como posible candidata. Pregunta por la respuesta y la almacena. A continuación, siguiendo por la siguiente palabra de la lista, busca la primera palabra que es <em>compatible</em> con la respuesta. La propone y la almacena en la lista la palabra y la respuesta. En todo momento lo que se hace es buscar a partir de la última palabra propuesta, la siguiente que es <em>compatible</em> con las respuestas almacenadas. Pero ¿qué significa exactamente ser compatible? Una palabra es compatible con todas las respuestas, si asumiendo que ella es la palabra secreta, da la misma respuesta a las palabras almacenadas.\n",
    "El programa llevará una lista con las palabras que han sido propuestas y sus respuestas. Por ejemplo, si tenemos las siguientes palabras con sus respuestas\n",
    "\n",
    "\n",
    "Palabra | Respuesta\n",
    "--------|------------------\n",
    "'ababa' |  [0, 2, 1, 2, 0]\n",
    "'acema' |  [0, 2, 0, 2, 0]\n",
    "\n",
    "La palabra 'acuma' no es compatible por que la resupuesta que daría a 'acema' es <code>[0,0,2,0,0]</code> en lucar de <code>[0,2,0,2,0]</code>. La palabra 'aleda' sí que es compatible. \n",
    "\n"
   ]
  },
  {
   "cell_type": "markdown",
   "id": "b8d558c2",
   "metadata": {},
   "source": [
    "# El programa principal\n",
    "\n",
    "Para desarrollar el programa empezaremos otra vez por la función principal del programa. Será parecida a la del programa anterior. Necesitamos el almacén de palabras y respuestas para poder averigüar la siguiente palabra compatible, a esa variable la llamaremos <code>storage</code>. Luego necesitamos la lista de palabras y la posición actual para poder seguir las palabras en orden.                           \n",
    "\n",
    "En cada iteración buscamos la siguiente palabra compatible y almacenamos la nueva respuesta en el almacén. Por último un pequeño detalle, en un juego <em>perfecto</em>, el fácil demostar que el algoritmo anterior llega a la solución. El problema es que el da las respuestas y bien se puede equivocar o directamente intentar hacer trampas. En esos casos, es posible que no exista la siguiente palabra compatible. \n"
   ]
  },
  {
   "cell_type": "code",
   "execution_count": null,
   "id": "d63b5fde",
   "metadata": {},
   "outputs": [],
   "source": [
    "def computer(words_file):\n",
    "    pos = 0\n",
    "    words = read_words(words_file, WORD_LENTGH)\n",
    "    storage = []\n",
    "    game_cont = True\n",
    "    while game_cont:\n",
    "        pos = next_candidate(storage, words, pos)\n",
    "        if pos<len(words):\n",
    "            candidate = words[pos]\n",
    "            answer = get_answer(candidate)\n",
    "            add_answer(storage, candidate, answer)\n",
    "            pos += 1\n",
    "        game_cont = pos<len(words) and not are_all_in_pos(answer)\n",
    "    if pos==len(words):\n",
    "        print('You have chosen an illegal word or have given an incorect answer')\n",
    "    else:\n",
    "        print(f'The secret word is {candidate}')\n",
    "    "
   ]
  },
  {
   "cell_type": "markdown",
   "id": "bc976460",
   "metadata": {},
   "source": [
    "El programa anterior no funciona porque falta la definición de las varias funciones: <code>next_candidate</code>, <code>add_answer</code> y <code>get_answer</code>. Las funciones <code>read_words</code> y <code>are_all_in_pos</code> ya están definidas de la versión anterior. \n",
    "\n",
    "En primer lugar daremos la función <code>add_answer</code>. Como parámetros de entrada hay una palabra candidata y debe devolver una lista de 0, 1 y 2 de la misma longitud de la palabra con la respuesta del usuario. El usuario responde con una secuencia de números separada por espacios. \n",
    "\n",
    "Se debe comprobar que la respuesta que da el usuario es la correcta, si no lo es se debe preguntar de nuevo al usuario. \n",
    "\n",
    "No te olvides de escribir la documentación de la función."
   ]
  },
  {
   "cell_type": "code",
   "execution_count": null,
   "id": "319def83",
   "metadata": {
    "deletable": false,
    "nbgrader": {
     "cell_type": "code",
     "checksum": "732ba3d7d5cbf95a473f5a2104165fab",
     "grade": false,
     "grade_id": "get_answer",
     "locked": false,
     "schema_version": 3,
     "solution": true,
     "task": false
    }
   },
   "outputs": [],
   "source": [
    "# YOUR CODE HERE\n",
    "raise NotImplementedError()"
   ]
  },
  {
   "cell_type": "markdown",
   "id": "318a1087",
   "metadata": {},
   "source": [
    "En la casilla de que sigue comprueba que tu programa funciona correctamente. Escribe tus propias pruebas"
   ]
  },
  {
   "cell_type": "code",
   "execution_count": null,
   "id": "ed14ba77",
   "metadata": {},
   "outputs": [],
   "source": []
  },
  {
   "cell_type": "code",
   "execution_count": null,
   "id": "8be036af",
   "metadata": {
    "deletable": false,
    "editable": false,
    "nbgrader": {
     "cell_type": "code",
     "checksum": "256f7f88cbe0775bebe91501fae8eeb1",
     "grade": true,
     "grade_id": "test_get_answer",
     "locked": true,
     "points": 1,
     "schema_version": 3,
     "solution": false,
     "task": false
    }
   },
   "outputs": [],
   "source": [
    "### BEGIN HIDDEN TEST\n",
    "input_ori = input\n",
    "class MyInput():\n",
    "    def __init__(self, answers):\n",
    "        self.pos = 0\n",
    "        self.answers = answers\n",
    "    def input(self, msg):\n",
    "        if self.pos<len(self.answers):\n",
    "            ans = self.answers[self.pos]\n",
    "            self.pos += 1\n",
    "        else:\n",
    "            ans = ''\n",
    "        return ans\n",
    "try:\n",
    "    test = ['0 1 0 1 2']\n",
    "    print(f'checking {test}....', end='')\n",
    "    myinput = MyInput(test)\n",
    "    input = myinput.input\n",
    "    answer = get_answer(\"abcde\")\n",
    "    assert answer==[0, 1, 0, 1, 2], f'La respuesta es {answer}'\n",
    "    print('ok')\n",
    "\n",
    "    test = ['0 0 1 2', '0 1 0 1 2']\n",
    "    print(f'checking {test}....', end='')\n",
    "    myinput = MyInput(test)\n",
    "    input = myinput.input\n",
    "    answer = get_answer(\"abcde\")\n",
    "    assert answer==[0, 1, 0, 1, 2], f'La respuesta es {answer}'\n",
    "    print('ok')\n",
    "\n",
    "\n",
    "    test = ['0 0 0 3 2', '0 1 0 1 2']\n",
    "    print(f'checking {test}....', end='')\n",
    "    myinput = MyInput(test)\n",
    "    input = myinput.input    \n",
    "    answer = get_answer(\"abcde\")\n",
    "    assert answer==[0, 1, 0, 1, 2], f'La respuesta es {answer}'\n",
    "    print('ok')\n",
    "\n",
    "\n",
    "    test = ['0 0 0 1 0 2', '0 1 0 1 2']\n",
    "    print(f'checking {test}....', end='')\n",
    "    myinput = MyInput(test)\n",
    "    input = myinput.input    \n",
    "    answer = get_answer(\"abcde\")\n",
    "    assert answer==[0, 1, 0, 1, 2], f'La respuesta es {answer}'\n",
    "    print('ok')\n",
    "\n",
    "\n",
    "finally:\n",
    "    input = input_ori\n",
    "### END HIDDEN TEST"
   ]
  },
  {
   "cell_type": "markdown",
   "id": "8360ba82",
   "metadata": {},
   "source": [
    "A continuación vamos a por la función <code>add_answer</code>. Debe modifificar la variable <code>storage</code> que tiene como parámetro para que incorpore una nueva tupla con la palabra y la respuesta. El primer elemento de la tupla debe ser la palabra y la segunda la respuesta de forma que la variable storage tenga un contenido similar al siguiente\n",
    "\n",
    "    <code>[('ababa', [0, 2, 1, 2, 0]), ('acema', [0, 2, 0, 2, 0]), ('aleda', [0, 2, 0, 2, 0]) ]</code>\n",
    "\n",
    "Recuerda de escribir la documentación de la función"
   ]
  },
  {
   "cell_type": "code",
   "execution_count": null,
   "id": "9a454298",
   "metadata": {
    "deletable": false,
    "nbgrader": {
     "cell_type": "code",
     "checksum": "510eae8b5dd4fa404c558d40e15c743d",
     "grade": false,
     "grade_id": "add_answer",
     "locked": false,
     "schema_version": 3,
     "solution": true,
     "task": false
    }
   },
   "outputs": [],
   "source": [
    "# YOUR CODE HERE\n",
    "raise NotImplementedError()"
   ]
  },
  {
   "cell_type": "markdown",
   "id": "15a5add8",
   "metadata": {},
   "source": [
    "En la casilla a continuación escribe las pruebas que hagas para ver que esa función está bien"
   ]
  },
  {
   "cell_type": "code",
   "execution_count": null,
   "id": "ab75276f",
   "metadata": {
    "deletable": false,
    "editable": false,
    "nbgrader": {
     "cell_type": "code",
     "checksum": "d37ddd6fa583c40a3fe5d8d858c92f45",
     "grade": true,
     "grade_id": "cell-bbfd707261b83342",
     "locked": true,
     "points": 1,
     "schema_version": 3,
     "solution": false,
     "task": false
    }
   },
   "outputs": [],
   "source": []
  },
  {
   "cell_type": "markdown",
   "id": "15fb26dc",
   "metadata": {},
   "source": [
    "Para realizar la función <code>next_candidate</code> debebmos partir de la posición actual y encontrar la siguiente palabra compatible con el almacen en la lista de palabras. Por ello vamos a hacer primero una función que nos diga si una palabra es compatible con las almacenadas en el almacén. "
   ]
  },
  {
   "cell_type": "code",
   "execution_count": null,
   "id": "dd43074c",
   "metadata": {
    "deletable": false,
    "nbgrader": {
     "cell_type": "code",
     "checksum": "657693122bcb9d49550f224eb4392ca9",
     "grade": false,
     "grade_id": "is_compatible",
     "locked": false,
     "schema_version": 3,
     "solution": true,
     "task": false
    }
   },
   "outputs": [],
   "source": [
    "def is_compatible(storage, word):\n",
    "    # YOUR CODE HERE\n",
    "    raise NotImplementedError()"
   ]
  },
  {
   "cell_type": "markdown",
   "id": "ceb16257",
   "metadata": {},
   "source": [
    "En la siguiente casilla puedes probar tu solución "
   ]
  },
  {
   "cell_type": "code",
   "execution_count": null,
   "id": "1a821e21",
   "metadata": {},
   "outputs": [],
   "source": []
  },
  {
   "cell_type": "code",
   "execution_count": null,
   "id": "183345bf",
   "metadata": {
    "deletable": false,
    "editable": false,
    "nbgrader": {
     "cell_type": "code",
     "checksum": "e22fb3e0ae175ef0438bad18d61f5f85",
     "grade": true,
     "grade_id": "test_is_compatible",
     "locked": true,
     "points": 1,
     "schema_version": 3,
     "solution": false,
     "task": false
    }
   },
   "outputs": [],
   "source": []
  },
  {
   "cell_type": "markdown",
   "id": "040e80e0",
   "metadata": {},
   "source": [
    "Ahora puedes dar la implementación de la función <code>next_candidate</code>. Fíjate en el lugar en el que se usa, te indicará los parámetros que tiene y lo que tiene que devolber. No te olvides de poner los comentarios adecuados en la definición"
   ]
  },
  {
   "cell_type": "code",
   "execution_count": null,
   "id": "ac54d025",
   "metadata": {
    "deletable": false,
    "nbgrader": {
     "cell_type": "code",
     "checksum": "2a270fa7c4c6b4a13ada160feff420c1",
     "grade": false,
     "grade_id": "next_candidate",
     "locked": false,
     "schema_version": 3,
     "solution": true,
     "task": false
    }
   },
   "outputs": [],
   "source": [
    "# YOUR CODE HERE\n",
    "raise NotImplementedError()"
   ]
  },
  {
   "cell_type": "markdown",
   "id": "273c3daf",
   "metadata": {},
   "source": [
    "En la siguiente casilla debes probar tu solución."
   ]
  },
  {
   "cell_type": "code",
   "execution_count": null,
   "id": "b62495bf",
   "metadata": {},
   "outputs": [],
   "source": []
  },
  {
   "cell_type": "code",
   "execution_count": null,
   "id": "57b5364f",
   "metadata": {
    "deletable": false,
    "editable": false,
    "nbgrader": {
     "cell_type": "code",
     "checksum": "b93aa43dd601d16aa09dceb85205c7ee",
     "grade": true,
     "grade_id": "test_next_candidate",
     "locked": true,
     "points": 1,
     "schema_version": 3,
     "solution": false,
     "task": false
    }
   },
   "outputs": [],
   "source": []
  },
  {
   "cell_type": "markdown",
   "id": "edeee2d0",
   "metadata": {},
   "source": [
    "## Programa completo\n",
    "\n",
    "Ha llegado el meomento de hacer el programa completo. Coge la función <code>computer</code> y todas las demás y ponlas a conticunación. La ejecuciön del programa genera un fichero <code>computer.py</code>"
   ]
  },
  {
   "cell_type": "code",
   "execution_count": null,
   "id": "4c792a46",
   "metadata": {
    "deletable": false,
    "nbgrader": {
     "cell_type": "code",
     "checksum": "b80be44ad166f034cab9a45d53ac3b06",
     "grade": false,
     "grade_id": "sol_completa",
     "locked": false,
     "schema_version": 3,
     "solution": true,
     "task": false
    }
   },
   "outputs": [],
   "source": [
    "%%file computer.py\n",
    "\n",
    "# YOUR CODE HERE\n",
    "raise NotImplementedError()\n",
    "\n",
    "\n"
   ]
  },
  {
   "cell_type": "markdown",
   "id": "07d0f8e8",
   "metadata": {},
   "source": [
    "Ejecuta tu programa en la siguiente casilla para ver si funciona bien"
   ]
  },
  {
   "cell_type": "code",
   "execution_count": null,
   "id": "74d499b9",
   "metadata": {},
   "outputs": [],
   "source": []
  },
  {
   "cell_type": "code",
   "execution_count": null,
   "id": "d409d5a2",
   "metadata": {
    "deletable": false,
    "editable": false,
    "nbgrader": {
     "cell_type": "code",
     "checksum": "4ea8acff7e2fe25a31b49bfdd39ee63d",
     "grade": true,
     "grade_id": "test_sol_completa",
     "locked": true,
     "points": 3,
     "schema_version": 3,
     "solution": false,
     "task": false
    }
   },
   "outputs": [],
   "source": [
    "### BEGIN HIDDEN TEST\n",
    "import sys \n",
    "import io\n",
    "\n",
    "stdout = sys.stdout\n",
    "input_ori = input\n",
    "class MyInput():\n",
    "    def __init__(self, answers):\n",
    "        self.pos = 0\n",
    "        self.answers = answers\n",
    "    def input(self, msg):\n",
    "        if self.pos<len(self.answers):\n",
    "            ans = self.answers[self.pos]\n",
    "            self.pos += 1\n",
    "        else:\n",
    "            ans = ''\n",
    "        return ans\n",
    "try:\n",
    "    myinput = MyInput(['0 2 1 2 1', \n",
    "                       '0 2 2 2 1', \n",
    "                       '0 2 2 0 2', \n",
    "                       '0 2 2 0 2',\n",
    "                       '0 2 2 0 0', \n",
    "                       '0 1 0 0 0', \n",
    "                       '0 0 0 0 0'])\n",
    "    \n",
    "    output = io.StringIO(\"\")\n",
    "    input = myinput.input\n",
    "    sys.stdout = output\n",
    "    computer(\"lemario.txt\")\n",
    "    assert output.getvalue() == 'The secret word is avion\\n', f'\"{output.getvalue()}\"'\n",
    "\n",
    "    myinput = MyInput(['0 2 1 2 1', \n",
    "                       '0 2 2 2 1', \n",
    "                       '0 2 2 0 2', \n",
    "                       '0 2 2 0 2',\n",
    "                       '0 2 2 0 0', \n",
    "                       '0 1 0 0 0', \n",
    "                       '0 0 0 0 1'])\n",
    "    \n",
    "    output = io.StringIO(\"\")\n",
    "    input = myinput.input\n",
    "    sys.stdout = output\n",
    "    computer(\"lemario.txt\")\n",
    "    assert output.getvalue() == 'You have chosen an illegal word or have given an incorect answer\\n', f'\"{output.getvalue()}\"'\n",
    "\n",
    "\n",
    "    \n",
    "finally:\n",
    "    input = input_ori\n",
    "    sys.stdout = stdout\n",
    "### END HIDDEN TEST"
   ]
  },
  {
   "cell_type": "markdown",
   "id": "5b80b1e0",
   "metadata": {},
   "source": [
    "## Ordenador contra sí mismo\n",
    "\n",
    "Por último haz un programa que juegue contra sí mismo. Haz una función llamada\n",
    "<code>computer_vs_computer</code> de forma que el ordenador juegue contra sí mismo, sin hacer trampas. La función como las anteriores debe contener un el nombre de un fichero de palabras. Debe devolver una tupla, el primer elemento de la tupla debe ser la palabra seleccionada, el segundo una lista con las todas las respuestas calculadas. Para seleccionar la palabra usa la función <a href='https://docs.python.org/3.8/library/random.html#random.randint'><code>random.randint</code></a>"
   ]
  },
  {
   "cell_type": "code",
   "execution_count": null,
   "id": "f59d5d28",
   "metadata": {
    "deletable": false,
    "nbgrader": {
     "cell_type": "code",
     "checksum": "f386ed85b539027441817bfc23c5030c",
     "grade": false,
     "grade_id": "computer_vs_computer",
     "locked": false,
     "schema_version": 3,
     "solution": true,
     "task": false
    }
   },
   "outputs": [],
   "source": [
    "# YOUR CODE HERE\n",
    "raise NotImplementedError()"
   ]
  },
  {
   "cell_type": "markdown",
   "id": "34100c4e",
   "metadata": {},
   "source": [
    "Ejecuta en la casilla siguientes pruebas para ver que realmente funciona."
   ]
  },
  {
   "cell_type": "code",
   "execution_count": null,
   "id": "8a876ec8",
   "metadata": {},
   "outputs": [],
   "source": [
    "computer_vs_computer('lemario.txt')"
   ]
  },
  {
   "cell_type": "markdown",
   "id": "f971ad1b",
   "metadata": {},
   "source": [
    "Por último, añade la función <code>computer_cvs_computer</code> al programa <code>computer.py</code>."
   ]
  }
 ],
 "metadata": {
  "kernelspec": {
   "display_name": "Python 3",
   "language": "python",
   "name": "python3"
  },
  "language_info": {
   "codemirror_mode": {
    "name": "ipython",
    "version": 3
   },
   "file_extension": ".py",
   "mimetype": "text/x-python",
   "name": "python",
   "nbconvert_exporter": "python",
   "pygments_lexer": "ipython3",
   "version": "3.8.10"
  }
 },
 "nbformat": 4,
 "nbformat_minor": 5
}
